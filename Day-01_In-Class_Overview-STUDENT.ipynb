{
 "cells": [
  {
   "cell_type": "markdown",
   "metadata": {
    "slideshow": {
     "slide_type": "-"
    }
   },
   "source": [
    "### <p style=\"text-align: right;\"> &#9989; **Put your name here** </p>"
   ]
  },
  {
   "cell_type": "markdown",
   "metadata": {
    "slideshow": {
     "slide_type": "-"
    }
   },
   "source": [
    "# Welcome to CMSE202\n",
    "# Day 1 In-class Notebook\n",
    "\n",
    "<img src=\"https://cmse.msu.edu/sites/_cmse/assets/Image/image001.png\" width= 400><p style=\"text-align: right;\">\n",
    "Image from https://cmse.msu.edu/\n",
    "</p>"
   ]
  },
  {
   "cell_type": "markdown",
   "metadata": {},
   "source": [
    "## Agenda for today's class\n",
    "\n",
    "</p>\n",
    "\n",
    "1. Getting started\n",
    "2. Pre-Course Survey (for those that haven't)\n",
    "3. Review the class syllabus and in-class procedures\n",
    "4. Group Introductions\n",
    "5. Plans to solve problems \n",
    "6. End-of-class survey"
   ]
  },
  {
   "cell_type": "markdown",
   "metadata": {},
   "source": [
    "------\n",
    "# 1. Lets get started"
   ]
  },
  {
   "cell_type": "markdown",
   "metadata": {},
   "source": [
    "### &#9989; Do This - Get out your laptop\n",
    "* Feel free to grab one of the laptops in the classroom if you do not have your own. "
   ]
  },
  {
   "cell_type": "markdown",
   "metadata": {},
   "source": [
    "### &#9989; Do This - Download this jupyter notebook\n",
    "* Go to the class <a href=\"https://d2l.msu.edu/\">D2L</a> page and download a copy of this notebook"
   ]
  },
  {
   "cell_type": "markdown",
   "metadata": {
    "slideshow": {
     "slide_type": "-"
    }
   },
   "source": [
    "### &#9989; Do This - Activate your engineering account \n",
    "\n",
    "When you enrolled in class you should have received an engineering login.  If you haven't already, go to the following URL to activate the account and set your password.\n",
    "\n",
    "https://www.egr.msu.edu/decs/myaccount/?page=activate"
   ]
  },
  {
   "cell_type": "markdown",
   "metadata": {},
   "source": [
    "### &#9989; Do This - Try logging into the Engineering JupyterHub Website\n",
    "\n",
    "http://jupyterhub.egr.msu.edu\n"
   ]
  },
  {
   "cell_type": "markdown",
   "metadata": {},
   "source": [
    "### &#9989; Do This - Try uploading this notebook into JupyterHub\n",
    "Make sure you understand how this process works and once you do, exit JupyterHub (unless you don't have Python successfully installed on your laptop)."
   ]
  },
  {
   "cell_type": "markdown",
   "metadata": {},
   "source": [
    "------\n",
    "# 2. Pre-Course Survey\n",
    "\n",
    "**If you didn't already complete the pre-course sent to you in an email**, please take a moment to do it now.\n",
    "\n",
    "#### &#9989; Do This - Execute the cell below by pressing shift+enter with the cell highlighted and complete the pre-course survey."
   ]
  },
  {
   "cell_type": "code",
   "execution_count": 3,
   "metadata": {},
   "outputs": [
    {
     "data": {
      "text/html": [
       "\n",
       "<iframe src=\"https://forms.gle/nHHJeVNbKj3ZAhDe6\"\n",
       "width=\"800px\"\n",
       "height=\"600px\"\n",
       "frameborder=\"0\"\n",
       "marginheight=\"0\"\n",
       "marginwidth=\"0\">Loading...</iframe>\n"
      ],
      "text/plain": [
       "<IPython.core.display.HTML object>"
      ]
     },
     "execution_count": 3,
     "metadata": {},
     "output_type": "execute_result"
    }
   ],
   "source": [
    "from IPython.display import HTML\n",
    "HTML(\n",
    "\"\"\"\n",
    "<iframe src=\"https://forms.gle/nHHJeVNbKj3ZAhDe6\"\n",
    "width=\"800px\"\n",
    "height=\"600px\"\n",
    "frameborder=\"0\"\n",
    "marginheight=\"0\"\n",
    "marginwidth=\"0\">Loading...</iframe>\n",
    "\"\"\"\n",
    ")"
   ]
  },
  {
   "cell_type": "markdown",
   "metadata": {},
   "source": [
    "------\n",
    "# 3. Review the class syllabus and in-class procedures\n",
    "\n",
    "### &#9989; Do This - Go to D2L and download the syllabus.\n",
    "\n",
    "* Read through the syllabus and note any questions you may have.\n",
    "\n",
    "* We will go through the syllabus as a class. \n",
    "\n",
    "* **Note:** If you're interested in doing an honors option, please contact me via email to discuss this.\n"
   ]
  },
  {
   "cell_type": "markdown",
   "metadata": {},
   "source": [
    "### Day-to-day class structure\n",
    "We are going to try and form some class habits to make things go smoothly and help keep us on task.\n",
    "\n",
    "**Step 1:** Download the pre-class notebook from the class Desire to learn (D2L) website or from the GitHub repository (we'll explain this later). Watch any associated videos, answer questions, complete the assignment and turn it in by 11:59 pm the day before class. Ideally, pre-class notebooks will be posted ~48 hours before it is due.\n",
    "\n",
    "**Step 2:** When you show up to class.  Sit with your assigned groups, if specified, and download the in-class notebook from the class D2L website or the GitHub respository. \n",
    "\n",
    "**Step 3:** Read through the notebook to get an idea about what we will be doing in class.\n",
    "\n",
    "**Step 4:** Complete that day's group and individual work shown in the notebooks. Most notebooks will have activities that can be conducted as soon as you get to class, but we might occasionally have a bit of class-wide discussion before we get started.\n",
    "\n",
    "**Step 5:** Complete the in-class feedback survey (if there is one). \n",
    "\n",
    "**Step 6:** Put your name(s) on the notebooks and at the end of class turn them in to the Desire to learn (D2L) website.\n"
   ]
  },
  {
   "cell_type": "markdown",
   "metadata": {},
   "source": [
    "------\n",
    "# 4. Group Introductions  \n",
    "\n",
    "**We will start by randomly moving people in the room, please go where the instructor tells you.**  \n",
    "\n",
    "Once you are at your new seat, introduce yourself to your neighbor.  You will talk to your neighbor for 5 minutes and then *you* will introduce them to the rest of your group by sharing their answers the following questions. \n",
    "</p>\n",
    "\n",
    "1. What is your neighbors name?\n",
    "2. What is your neighbors major?\n",
    "3. Why is your neighbor taking this class?\n",
    "4. What was the most interesting thing that you neighbor did or had happen to them during the break?"
   ]
  },
  {
   "cell_type": "markdown",
   "metadata": {},
   "source": [
    "------\n",
    "# 5. Planning to solve problems\n",
    "For our first activity of the semester, I want you to think about how you would solve a problem successfully.  I want us to focus less on the code and more on the process.  \n",
    "\n",
    "Consider the following problem:"
   ]
  },
  {
   "cell_type": "markdown",
   "metadata": {},
   "source": [
    "### Gift Exchange Problem\n",
    "We would like to write a gift exchange program that lets everyone in a group get a present from someone else.  \n",
    "\n",
    "Assume you have a group of $N$ individuals ($P_1, P_2, P_3, \\dots, P_N$). Also assume that you have $M$ households ($H_1, H_2,...H_M$) Each person is a member of at least one household ($ e.g. P_1 \\in H_1, P_2 \\in H_2, P_3 \\in H_5$, etc) and a given household can be home to more than one person. \n",
    "\n",
    "**Note:** the $\\in$ symbol is commonly used in math and represents membership. We typically say \"in\" so $P_1 \\in H_1$ would be read \"P one in H one\"\n",
    "\n",
    "Think about how you would write a program to randomly select an anonymous name from the list to give each person.  We would like this exchange to adhere to the following rules:\n",
    "\n",
    "1. Every person should give one, and only one, gift.\n",
    "1. Every person should receive one, and only one, gift.\n",
    "1. A person can not give themselves a gift.\n",
    "1. A person can not give a gift to someone in their own household. \n",
    "1. Whenever possible the person receiving the gift should not know from whom the gift was given. For example, If person $a$ ($P_a$) gives a gift to person $b$ ($P_b$) then it is possible that $P_b$ gives a gift to $P_a$. However, this must not be true for all $a$ and $b$. i.e. we can't just pair people up or it will no longer be anonymous."
   ]
  },
  {
   "cell_type": "markdown",
   "metadata": {},
   "source": [
    "&#9989; Individually, write the steps you would take to solve this problem successfully.  What would you do first?  What would you do last?  Again, the goal is not to solve the problem, the goal is to come up with a plan that will allow you to solve the problem.  "
   ]
  },
  {
   "cell_type": "markdown",
   "metadata": {},
   "source": [
    "Start of with making a function that can irerrate the variables given.\n",
    "\n",
    "And given the random function that can assign values to the variables. \n",
    "\n",
    "The random numbers from 1-n. Then get an array to get the new values and repeat this every time. "
   ]
  },
  {
   "cell_type": "markdown",
   "metadata": {},
   "source": [
    "&#9989; In your groups, discuss each of your plans. Think about things you may have missed in your own plan.  Modify or pick a plan that represents the group.  Take note of what is in the group plan that is not in your own plan. **It might be useful to make use of the whiteboards for this part!**"
   ]
  },
  {
   "cell_type": "markdown",
   "metadata": {},
   "source": [
    "N is the number of people and M being the amount of Households\n",
    "(1) We create a function. And in the fucntion the parameter is M\n",
    "\n",
    "(2) In the function we choose two random integers. \n",
    "\n",
    "(3) Create a dictonary of the lenghts of N that goes with H being the name and then p being the defitnion. Assining each family to each list. \n",
    "\n",
    "(4) Making a true and false loop that checks which N are in which M\n",
    "\n",
    "(5) Double for loop that gives the range of length\n",
    "\n",
    "        In the first part is in order, and the second is given at random, \n",
    "        lastly check if the pairs are in different households\n",
    "        also checking if that if there are already made a pair in the array\n",
    "        \n",
    "(6) Lastly, the code stops when the combination is equal to the final array. "
   ]
  },
  {
   "cell_type": "markdown",
   "metadata": {},
   "source": [
    "&#128101; As a class, each group will present their favorite plan.  Take notes below about ideas other groups had that you think are good and would like to include in your plan. "
   ]
  },
  {
   "cell_type": "markdown",
   "metadata": {},
   "source": []
  },
  {
   "cell_type": "markdown",
   "metadata": {},
   "source": [
    "----\n",
    "\n",
    "# 6. Day 1 Wrap-up\n",
    "\n",
    "### &#9989; Do This - Fill out the Google Form below before turning in your notebook on D2L.    "
   ]
  },
  {
   "cell_type": "code",
   "execution_count": 6,
   "metadata": {},
   "outputs": [
    {
     "data": {
      "text/html": [
       "\n",
       "<iframe src=\"https://forms.gle/oNMviLgj8XQaNPJ99\"\n",
       "width=\"800\"\n",
       "height=\"600\"\n",
       "frameborder=\"0\"\n",
       "marginheight=\"0\"\n",
       "marginwidth=\"0\">Loading...</iframe>\n"
      ],
      "text/plain": [
       "<IPython.core.display.HTML object>"
      ]
     },
     "execution_count": 6,
     "metadata": {},
     "output_type": "execute_result"
    }
   ],
   "source": [
    "from IPython.display import HTML\n",
    "HTML(\n",
    "\"\"\"\n",
    "<iframe src=\"https://forms.gle/oNMviLgj8XQaNPJ99\"\n",
    "width=\"800\"\n",
    "height=\"600\"\n",
    "frameborder=\"0\"\n",
    "marginheight=\"0\"\n",
    "marginwidth=\"0\">Loading...</iframe>\n",
    "\"\"\"\n",
    ")"
   ]
  },
  {
   "cell_type": "markdown",
   "metadata": {},
   "source": [
    "-----\n",
    "## Congratulations, you're done with your first in-class assignment!\n",
    "\n",
    "Now, you just need to submit this assignment by uploading it to the course <a href=\"https://d2l.msu.edu/\">Desire2Learn</a> web page for today's assignment submission folder. (Don't forget to add your name in the first cell!)."
   ]
  },
  {
   "cell_type": "markdown",
   "metadata": {},
   "source": [
    "&#169; Copyright 2018,  Michigan State University Board of Trustees"
   ]
  }
 ],
 "metadata": {
  "anaconda-cloud": {},
  "kernelspec": {
   "display_name": "Python 3",
   "language": "python",
   "name": "python3"
  },
  "language_info": {
   "codemirror_mode": {
    "name": "ipython",
    "version": 3
   },
   "file_extension": ".py",
   "mimetype": "text/x-python",
   "name": "python",
   "nbconvert_exporter": "python",
   "pygments_lexer": "ipython3",
   "version": "3.7.3"
  }
 },
 "nbformat": 4,
 "nbformat_minor": 4
}
